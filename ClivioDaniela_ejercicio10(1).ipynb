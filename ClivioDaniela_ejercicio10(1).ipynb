{
 "cells": [
  {
   "cell_type": "code",
   "execution_count": 10,
   "metadata": {},
   "outputs": [],
   "source": [
    "import urllib\n",
    "from urllib.request import urlopen\n",
    "from io import StringIO\n",
    "from io import BytesIO\n",
    "import csv\n",
    "import numpy as np\n",
    "from datetime import datetime\n",
    "import matplotlib.pylab as plt\n",
    "import pandas as pd\n",
    "import scipy.signal as signal"
   ]
  },
  {
   "cell_type": "code",
   "execution_count": 33,
   "metadata": {},
   "outputs": [],
   "source": [
    "descarga1=\"https://hub.mybinder.org/user/computociencias-fisi2029-201910-7q3o8g8h/files/Seccion_1/Fourier/Datos/transacciones2008.txt\"\n",
    "datos1=urllib.request.urlopen(descarga1)\n",
    "\n",
    "descarga2=\"https://hub.mybinder.org/user/computociencias-fisi2029-201910-7q3o8g8h/files/Seccion_1/Fourier/Datos/transacciones2009.txt\"\n",
    "datos2=urllib.request.urlopen(descarga2)\n",
    "\n",
    "descarga3=\"https://hub.mybinder.org/user/computociencias-fisi2029-201910-7q3o8g8h/files/Seccion_1/Fourier/Datos/transacciones2010.txt\"\n",
    "datos3=urllib.request.urlopen(descarga3)"
   ]
  },
  {
   "cell_type": "code",
   "execution_count": 34,
   "metadata": {},
   "outputs": [],
   "source": [
    "leer1=datos1.read()\n",
    "leer2=datos2.read()\n",
    "leer3=datos3.read()"
   ]
  },
  {
   "cell_type": "code",
   "execution_count": null,
   "metadata": {},
   "outputs": [],
   "source": [
    "\n"
   ]
  },
  {
   "cell_type": "code",
   "execution_count": null,
   "metadata": {},
   "outputs": [],
   "source": []
  }
 ],
 "metadata": {
  "kernelspec": {
   "display_name": "Python 3",
   "language": "python",
   "name": "python3"
  },
  "language_info": {
   "codemirror_mode": {
    "name": "ipython",
    "version": 3
   },
   "file_extension": ".py",
   "mimetype": "text/x-python",
   "name": "python",
   "nbconvert_exporter": "python",
   "pygments_lexer": "ipython3",
   "version": "3.7.2"
  }
 },
 "nbformat": 4,
 "nbformat_minor": 2
}
